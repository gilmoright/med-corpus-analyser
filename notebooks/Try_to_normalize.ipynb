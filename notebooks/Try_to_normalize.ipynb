{
 "cells": [
  {
   "cell_type": "code",
   "execution_count": 1,
   "metadata": {},
   "outputs": [],
   "source": [
    "import pymorphy2\n",
    "import json\n",
    "from collections import defaultdict, Counter"
   ]
  },
  {
   "cell_type": "code",
   "execution_count": 2,
   "metadata": {},
   "outputs": [],
   "source": [
    "morph = pymorphy2.MorphAnalyzer()"
   ]
  },
  {
   "cell_type": "markdown",
   "metadata": {},
   "source": [
    "переенёс в скрипт Normalize_drugnames_and_diseasenames.py"
   ]
  },
  {
   "cell_type": "raw",
   "metadata": {
    "scrolled": true
   },
   "source": [
    "# смотрим, а не надо ли сущности драгфром также считать драгнеймами?\n",
    "# хз, есть конечно те, которые можно считать, но много мусора какого-то\n",
    "froms_wo_drugnames = set()\n",
    "with open(\"../data/raw/ner_800k_jsonl/short_ner_800k_norms.jsonl\", \"r\") as inf:\n",
    "    counter = 0\n",
    "    for line in inf:\n",
    "        if counter % 1000 == 0:\n",
    "            print(counter)\n",
    "        counter += 1\n",
    "        docData = json.loads(line)\n",
    "        drugnames = set()\n",
    "        for k, v in docData[\"entities\"].items():\n",
    "            if \"Drugname\" in v[\"tag\"]:\n",
    "                drugnames.add(v[\"text\"])\n",
    "        for k, v in docData[\"entities\"].items():\n",
    "            if \"MedFrom\" in v[\"tag\"]:\n",
    "                if v[\"text\"] not in drugnames:\n",
    "                    froms_wo_drugnames.add(v[\"text\"])"
   ]
  },
  {
   "cell_type": "markdown",
   "metadata": {},
   "source": [
    "# выбираем не начальную форму, а самый популярный вариант этой начальной формы"
   ]
  },
  {
   "cell_type": "code",
   "execution_count": 95,
   "metadata": {},
   "outputs": [],
   "source": [
    "norm_and_variations_drug = defaultdict(Counter)\n",
    "norm_and_variations_disease = defaultdict(Counter)\n",
    "with open(\"../data/raw/ner_800k_jsonl/short_ner_800k_norms.jsonl\", \"r\") as outf:\n",
    "    for line in outf:\n",
    "        docData = json.loads(line)\n",
    "        for k, v in docData[\"entities\"].items():\n",
    "            if \"Drugname\" in v[\"tag\"]:\n",
    "                norm_and_variations_drug[v[\"norm_form\"]][v[\"text\"].lower()]+=1\n",
    "            elif \"Diseasename\" in v[\"tag\"]:\n",
    "                norm_and_variations_disease[v[\"norm_form\"]][v[\"text\"].lower()]+=1"
   ]
  },
  {
   "cell_type": "code",
   "execution_count": 96,
   "metadata": {},
   "outputs": [],
   "source": [
    "correct_pairs_drug = {}\n",
    "for k, v in norm_and_variations_drug.items():\n",
    "    correct_pairs_drug[k] = v.most_common(1)[0][0]\n",
    "correct_pairs_dis = {}\n",
    "for k, v in norm_and_variations_disease.items():\n",
    "    correct_pairs_dis[k] = v.most_common(1)[0][0]"
   ]
  },
  {
   "cell_type": "code",
   "execution_count": 97,
   "metadata": {},
   "outputs": [],
   "source": [
    "lines = []\n",
    "with open(\"../data/raw/ner_800k_jsonl/short_ner_800k_norms.jsonl\", \"r\") as inf, open(\"../data/raw/ner_800k_jsonl/short_ner_800k_norms_2.jsonl\", \"w\") as outf:\n",
    "    counter = 0\n",
    "    for line in inf:\n",
    "        if counter % 1000 == 0:\n",
    "            pass\n",
    "            #print(counter)\n",
    "        counter += 1\n",
    "        docData = json.loads(line)\n",
    "        for k, v in docData[\"entities\"].items():\n",
    "            if \"Drugname\" in v[\"tag\"]:\n",
    "                v[\"norm_form\"] = correct_pairs_drug[v[\"norm_form\"]]\n",
    "            elif \"Diseasename\" in v[\"tag\"]:\n",
    "                v[\"norm_form\"] = correct_pairs_dis[v[\"norm_form\"]]\n",
    "        outf.write(json.dumps(docData) + \"\\n\")"
   ]
  },
  {
   "cell_type": "markdown",
   "metadata": {},
   "source": [
    "# add meddra from gleb"
   ]
  },
  {
   "cell_type": "code",
   "execution_count": 3,
   "metadata": {},
   "outputs": [],
   "source": [
    "with open(\"/s/ls4/users/romanrybka/pharm_er/Pipeline_Ner_Norm/RelationExtraction/ner_norm_800k.jsonl\", \"r\") as f:\n",
    "    corpus = json.load(f)"
   ]
  },
  {
   "cell_type": "code",
   "execution_count": 5,
   "metadata": {},
   "outputs": [
    {
     "data": {
      "text/plain": [
       "{'text_id': 1,\n",
       " 'entities': {'0': {'text': 'подействовал после первого же применения',\n",
       "   'tag': 'Disease:DisTypeBNE-Pos'},\n",
       "  '1': {'text': 'перестала кашлять раз', 'tag': 'Disease:DisTypeBNE-Pos'},\n",
       "  '2': {'text': 'простуды', 'tag': 'Disease:DisTypeDiseasename'},\n",
       "  '3': {'text': 'кашляла',\n",
       "   'tag': 'Disease:DisTypeIndication',\n",
       "   'MedDRA': 0,\n",
       "   'MedDRA_code': ['Кашель', '10011224']},\n",
       "  '4': {'text': 'больного горла',\n",
       "   'tag': 'Disease:DisTypeIndication',\n",
       "   'MedDRA': 1,\n",
       "   'MedDRA_code': ['Боль в ротоглотке (орофарингеальная)', '10068319']},\n",
       "  '5': {'text': 'кашлять',\n",
       "   'tag': 'Disease:DisTypeIndication',\n",
       "   'MedDRA': 2,\n",
       "   'MedDRA_code': ['Кашель', '10011224']},\n",
       "  '6': {'text': 'кашлем',\n",
       "   'tag': 'Disease:DisTypeIndication',\n",
       "   'MedDRA': 3,\n",
       "   'MedDRA_code': ['Кашель', '10011224']},\n",
       "  '7': {'text': 'кашель приступообразный',\n",
       "   'tag': 'Disease:DisTypeIndication',\n",
       "   'MedDRA': 4,\n",
       "   'MedDRA_code': ['Кашель', '10011224']},\n",
       "  '8': {'text': 'кашле',\n",
       "   'tag': 'Disease:DisTypeIndication',\n",
       "   'MedDRA': 5,\n",
       "   'MedDRA_code': ['Кашель', '10011224']},\n",
       "  '9': {'text': 'сухим кашлем',\n",
       "   'tag': 'Disease:DisTypeIndication',\n",
       "   'MedDRA': 6,\n",
       "   'MedDRA_code': ['Кашель', '10011224']},\n",
       "  '10': {'text': 'эффекта \" о', 'tag': 'Disease:DisTypeNegatedADE'},\n",
       "  '11': {'text': 'даже', 'tag': 'Disease:DisTypeWorse'},\n",
       "  '12': {'text': 'становилось хуже', 'tag': 'Disease:DisTypeWorse'},\n",
       "  '13': {'text': 'сироп', 'tag': 'Medication:MedTypeDrugform'},\n",
       "  '14': {'text': 'сироп', 'tag': 'Medication:MedTypeDrugform'},\n",
       "  '15': {'text': 'дней', 'tag': 'Medication:MedTypeDuration'},\n",
       "  '16': {'text': 'пили', 'tag': 'Medication:MedTypeRoute'}}}"
      ]
     },
     "execution_count": 5,
     "metadata": {},
     "output_type": "execute_result"
    }
   ],
   "source": [
    "corpus[1]"
   ]
  },
  {
   "cell_type": "code",
   "execution_count": 100,
   "metadata": {},
   "outputs": [],
   "source": [
    "meddra_synonyms = defaultdict(set)\n",
    "with open(\"../data/raw/ner_800k_jsonl/short_ner_800k_norms_2.jsonl\", \"r\") as origf, \\\n",
    "    open(\"/s/ls4/users/romanrybka/pharm_er/Pipeline_Ner_Norm/RelationExtraction/ner_norm_800k.jsonl\", \"r\") as normf, \\\n",
    "    open(\"../data/raw/ner_800k_jsonl/short_ner_800k_norms_3.jsonl\", \"w\") as outf:\n",
    "    counter = 0\n",
    "    corpus = json.load(normf)\n",
    "    for line in origf:\n",
    "        docData = json.loads(line)\n",
    "        assert docData[\"text_id\"]==corpus[counter][\"text_id\"]\n",
    "        for k in docData[\"entities\"].keys():\n",
    "            assert docData[\"entities\"][k][\"text\"]==corpus[counter][\"entities\"][k][\"text\"]\n",
    "            if \"MedDRA_code\" in corpus[counter][\"entities\"][k]:\n",
    "                assert len(corpus[counter][\"entities\"][k][\"MedDRA_code\"])==2\n",
    "                docData[\"entities\"][k][\"MedDRA_code\"] = corpus[counter][\"entities\"][k][\"MedDRA_code\"]\n",
    "                meddra_synonyms[corpus[counter][\"entities\"][k][\"MedDRA_code\"][0]].add(docData[\"entities\"][k][\"text\"].lower())\n",
    "        outf.write(json.dumps(docData)+\"\\n\")\n",
    "        counter += 1"
   ]
  },
  {
   "cell_type": "raw",
   "metadata": {},
   "source": [
    "with open(\"../data/meddra_synonims_from800k13022023.txt\", \"w\") as f:\n",
    "    for k, v in meddra_synonyms.items():\n",
    "        f.write(\", \".join([x.replace(\",\", \" \") for x in v]) + \" => \" + k + \"\\n\")"
   ]
  },
  {
   "cell_type": "markdown",
   "metadata": {},
   "source": [
    "# добавить url из файла"
   ]
  },
  {
   "cell_type": "code",
   "execution_count": 113,
   "metadata": {},
   "outputs": [],
   "source": [
    "with open(\"../data/raw/ner_800k_jsonl/urls.json\", \"r\") as f:\n",
    "    urld_list = json.load(f)\n",
    "with open(\"../data/raw/ner_800k_jsonl/short_ner_800k_norms_3.jsonl\", \"r\") as origf, \\\n",
    "     open(\"../data/raw/ner_800k_jsonl/short_ner_800k_norms_4.jsonl\", \"w\") as outf:\n",
    "    i = 0\n",
    "    for line in origf:\n",
    "        docData = json.loads(line) \n",
    "        docData[\"meta\"] = {}\n",
    "        docData[\"meta\"][\"url\"] = urld_list[i]\n",
    "        i+=1\n",
    "        \n",
    "        outf.write(json.dumps(docData) + \"\\n\")"
   ]
  },
  {
   "cell_type": "code",
   "execution_count": 114,
   "metadata": {},
   "outputs": [
    {
     "data": {
      "text/plain": [
       "'https://otzovik.com/review_4729315.html'"
      ]
     },
     "execution_count": 114,
     "metadata": {},
     "output_type": "execute_result"
    }
   ],
   "source": [
    "urld_list[-1]"
   ]
  },
  {
   "cell_type": "code",
   "execution_count": 116,
   "metadata": {},
   "outputs": [
    {
     "data": {
      "text/plain": [
       "{'text_id': 770110,\n",
       " 'entities': {'0': {'text': 'результатом уже довольна',\n",
       "   'tag': 'Disease:DisTypeBNE-Pos'},\n",
       "  '1': {'text': 'кожа уже гораздо лучше конец дня мой нос блестит ярче солнца',\n",
       "   'tag': 'Disease:DisTypeBNE-Pos'},\n",
       "  '2': {'text': 'воспаления на лице',\n",
       "   'tag': 'Disease:DisTypeIndication',\n",
       "   'MedDRA_code': ['Воспаление', '10061218']},\n",
       "  '3': {'text': 'Avene Cleanance', 'tag': 'Medication:MedFromForeign'},\n",
       "  '4': {'text': 'Фармленде', 'tag': 'Medication:MedMakerDomestic'},\n",
       "  '5': {'text': 'эмульсию', 'tag': 'Medication:MedTypeDrugform'},\n",
       "  '6': {'text': 'гелю', 'tag': 'Medication:MedTypeDrugform'},\n",
       "  '7': {'text': 'лосьону', 'tag': 'Medication:MedTypeDrugform'},\n",
       "  '8': {'text': 'гель', 'tag': 'Medication:MedTypeDrugform'},\n",
       "  '9': {'text': 'Avene Cleanance',\n",
       "   'tag': 'Medication:MedTypeDrugname',\n",
       "   'norm_form': 'avene cleanance'},\n",
       "  '10': {'text': 'Фармленде', 'tag': 'Medication:MedTypeMedMaker'},\n",
       "  '11': {'text': 'для умывания', 'tag': 'Medication:MedTypeRoute'},\n",
       "  '12': {'text': 'по совету косметолога',\n",
       "   'tag': 'Medication:MedTypeSourceInfodrug'}},\n",
       " 'meta': {'url': 'https://otzovik.com/review_4729315.html'}}"
      ]
     },
     "execution_count": 116,
     "metadata": {},
     "output_type": "execute_result"
    }
   ],
   "source": [
    "docData"
   ]
  },
  {
   "cell_type": "markdown",
   "metadata": {},
   "source": [
    "# проверка проблемных отзывов"
   ]
  },
  {
   "cell_type": "code",
   "execution_count": 104,
   "metadata": {},
   "outputs": [],
   "source": [
    "with open(\"../data/raw/ner_800k_jsonl/short_ner_800k_norms_3.jsonl\", \"r\") as outf:\n",
    "    for line in outf:\n",
    "        docData = json.loads(line)\n",
    "        if docData[\"text_id\"]!=410728:  # 19511\n",
    "            continue\n",
    "        break"
   ]
  },
  {
   "cell_type": "code",
   "execution_count": 67,
   "metadata": {},
   "outputs": [
    {
     "data": {
      "text/plain": [
       "[Parse(word='мукалтин', tag=OpencorporaTag('NOUN,inan,femn plur,gent'), normal_form='мукалтина', score=0.2727272727272727, methods_stack=((DictionaryAnalyzer(), 'тин', 55, 8), (UnknownPrefixAnalyzer(score_multiplier=0.5), 'мукал'))),\n",
       " Parse(word='мукалтин', tag=OpencorporaTag('NOUN,anim,femn,Name plur,gent'), normal_form='мукалтина', score=0.2727272727272727, methods_stack=((DictionaryAnalyzer(), 'тин', 69, 8), (UnknownPrefixAnalyzer(score_multiplier=0.5), 'мукал'))),\n",
       " Parse(word='мукалтин', tag=OpencorporaTag('NOUN,anim,femn,Name plur,accs'), normal_form='мукалтина', score=0.2727272727272727, methods_stack=((DictionaryAnalyzer(), 'тин', 69, 10), (UnknownPrefixAnalyzer(score_multiplier=0.5), 'мукал'))),\n",
       " Parse(word='мукалтин', tag=OpencorporaTag('NOUN,inan,masc sing,nomn'), normal_form='мукалтин', score=0.0909090909090909, methods_stack=((FakeDictionary(), 'мукалтин', 34, 0), (KnownSuffixAnalyzer(min_word_length=4, score_multiplier=0.5), 'алтин'))),\n",
       " Parse(word='мукалтин', tag=OpencorporaTag('NOUN,inan,masc sing,accs'), normal_form='мукалтин', score=0.0909090909090909, methods_stack=((FakeDictionary(), 'мукалтин', 34, 3), (KnownSuffixAnalyzer(min_word_length=4, score_multiplier=0.5), 'алтин')))]"
      ]
     },
     "execution_count": 67,
     "metadata": {},
     "output_type": "execute_result"
    }
   ],
   "source": [
    "import pymorphy2\n",
    "#'мукалтином' 'мукалтин'\n",
    "#'мукалтину' 'мукалтина'\n",
    "#'Мукалтин' 'мукалтины'\n",
    "#'мукалтин' 'мукалтины'\n",
    "\n",
    "morph = pymorphy2.MorphAnalyzer()\n",
    "parse = morph.parse('мукалтин')\n",
    "print(\"pymorphy\", parse)"
   ]
  },
  {
   "cell_type": "code",
   "execution_count": 107,
   "metadata": {},
   "outputs": [
    {
     "data": {
      "text/plain": [
       "'простудный заболевание'"
      ]
     },
     "execution_count": 107,
     "metadata": {},
     "output_type": "execute_result"
    }
   ],
   "source": [
    "from pymystem3 import Mystem\n",
    "m = Mystem()\n",
    "\"\".join(m.lemmatize('простудными заболеваниями')).strip()"
   ]
  },
  {
   "cell_type": "code",
   "execution_count": 106,
   "metadata": {},
   "outputs": [
    {
     "name": "stdout",
     "output_type": "stream",
     "text": [
      "простудный\n",
      "заболевание\n"
     ]
    }
   ],
   "source": [
    "import spacy\n",
    "nlp = spacy.load(\"ru_core_news_sm\")\n",
    "doc = nlp('простудными заболеваниями')\n",
    "for token in doc:\n",
    "    print(token.lemma_)"
   ]
  },
  {
   "cell_type": "code",
   "execution_count": 105,
   "metadata": {},
   "outputs": [
    {
     "data": {
      "text/plain": [
       "{'text_id': 410728,\n",
       " 'entities': {'0': {'text': 'аллергические возможные реакции',\n",
       "   'tag': 'ADR',\n",
       "   'MedDRA_code': ['Гиперчувствительность', '10020751']},\n",
       "  '1': {'text': 'помогает кашель', 'tag': 'Disease:DisTypeBNE-Pos'},\n",
       "  '2': {'text': 'действенно', 'tag': 'Disease:DisTypeBNE-Pos'},\n",
       "  '3': {'text': 'простудными заболеваниями',\n",
       "   'tag': 'Disease:DisTypeDiseasename',\n",
       "   'norm_form': 'простудных заболеваний'},\n",
       "  '4': {'text': 'кашля',\n",
       "   'tag': 'Disease:DisTypeIndication',\n",
       "   'MedDRA_code': ['Кашель', '10011224']},\n",
       "  '5': {'text': 'кашля',\n",
       "   'tag': 'Disease:DisTypeIndication',\n",
       "   'MedDRA_code': ['Кашель', '10011224']},\n",
       "  '6': {'text': 'мокрый кашель',\n",
       "   'tag': 'Disease:DisTypeIndication',\n",
       "   'MedDRA_code': ['Кашель', '10011224']},\n",
       "  '7': {'text': 'откашливать',\n",
       "   'tag': 'Disease:DisTypeIndication',\n",
       "   'MedDRA_code': ['Кашель', '10011224']},\n",
       "  '8': {'text': 'кашля',\n",
       "   'tag': 'Disease:DisTypeIndication',\n",
       "   'MedDRA_code': ['Кашель', '10011224']},\n",
       "  '9': {'text': 'Алтейка', 'tag': 'Medication:MedFromDomestic'},\n",
       "  '10': {'text': 'Муколтин', 'tag': 'Medication:MedFromDomestic'},\n",
       "  '11': {'text': 'Мукалтин', 'tag': 'Medication:MedFromForeign'},\n",
       "  '12': {'text': 'Мукалтин', 'tag': 'Medication:MedFromForeign'},\n",
       "  '13': {'text': 'Алтейка', 'tag': 'Medication:MedMakerDomestic'},\n",
       "  '14': {'text': 'Arterium', 'tag': 'Medication:MedMakerForeign'},\n",
       "  '15': {'text': 'украинский', 'tag': 'Medication:MedMakerForeign'},\n",
       "  '16': {'text': '50', 'tag': 'Medication:MedTypeDosage'},\n",
       "  '17': {'text': 'по 1 таблетка', 'tag': 'Medication:MedTypeDosage'},\n",
       "  '18': {'text': 'Мукалтин', 'tag': 'Medication:MedTypeDrugBrand'},\n",
       "  '19': {'text': 'отхаркивающее', 'tag': 'Medication:MedTypeDrugclass'},\n",
       "  '20': {'text': 'противокашлевое', 'tag': 'Medication:MedTypeDrugclass'},\n",
       "  '21': {'text': 'таблетками', 'tag': 'Medication:MedTypeDrugform'},\n",
       "  '22': {'text': 'сиропом', 'tag': 'Medication:MedTypeDrugform'},\n",
       "  '23': {'text': 'таблетками', 'tag': 'Medication:MedTypeDrugform'},\n",
       "  '24': {'text': 'Таблетки', 'tag': 'Medication:MedTypeDrugform'},\n",
       "  '25': {'text': 'таблетка', 'tag': 'Medication:MedTypeDrugform'},\n",
       "  '26': {'text': 'таблетка', 'tag': 'Medication:MedTypeDrugform'},\n",
       "  '27': {'text': 'Алтейка',\n",
       "   'tag': 'Medication:MedTypeDrugname',\n",
       "   'norm_form': 'алтейка'},\n",
       "  '28': {'text': 'Муколтин',\n",
       "   'tag': 'Medication:MedTypeDrugname',\n",
       "   'norm_form': 'муколтин'},\n",
       "  '29': {'text': 'Мукалтин',\n",
       "   'tag': 'Medication:MedTypeDrugname',\n",
       "   'norm_form': 'мукалтин'},\n",
       "  '30': {'text': 'муколтина',\n",
       "   'tag': 'Medication:MedTypeDrugname',\n",
       "   'norm_form': 'муколтин'},\n",
       "  '31': {'text': 'Мукалтин',\n",
       "   'tag': 'Medication:MedTypeDrugname',\n",
       "   'norm_form': 'мукалтин'},\n",
       "  '32': {'text': '7 дней', 'tag': 'Medication:MedTypeDuration'},\n",
       "  '33': {'text': '3 - 4 раза в день', 'tag': 'Medication:MedTypeFrequency'},\n",
       "  '34': {'text': 'Алтейка', 'tag': 'Medication:MedTypeMedMaker'},\n",
       "  '35': {'text': 'Arterium', 'tag': 'Medication:MedTypeMedMaker'},\n",
       "  '36': {'text': 'украинский', 'tag': 'Medication:MedTypeMedMaker'},\n",
       "  '37': {'text': 'заваривать', 'tag': 'Medication:MedTypeRoute'}}}"
      ]
     },
     "execution_count": 105,
     "metadata": {},
     "output_type": "execute_result"
    }
   ],
   "source": [
    "docData"
   ]
  }
 ],
 "metadata": {
  "kernelspec": {
   "display_name": "normalization",
   "language": "python",
   "name": "normalization"
  },
  "language_info": {
   "codemirror_mode": {
    "name": "ipython",
    "version": 3
   },
   "file_extension": ".py",
   "mimetype": "text/x-python",
   "name": "python",
   "nbconvert_exporter": "python",
   "pygments_lexer": "ipython3",
   "version": "3.8.0"
  }
 },
 "nbformat": 4,
 "nbformat_minor": 4
}
