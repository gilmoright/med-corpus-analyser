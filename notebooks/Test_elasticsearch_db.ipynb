{
 "cells": [
  {
   "cell_type": "code",
   "execution_count": 171,
   "metadata": {},
   "outputs": [],
   "source": [
    "import pandas as pd\n",
    "import elasticsearch\n",
    "from elasticsearch_dsl import Search, A\n",
    "from elasticsearch_dsl.query import MatchAll, Match"
   ]
  },
  {
   "cell_type": "markdown",
   "metadata": {},
   "source": [
    "multiterm aggregation\n",
    "#https://www.elastic.co/guide/en/elasticsearch/reference/current/search-aggregations-bucket-terms-aggregation.html"
   ]
  },
  {
   "cell_type": "code",
   "execution_count": 173,
   "metadata": {},
   "outputs": [],
   "source": [
    "es = elasticsearch.Elasticsearch(hosts=[{'host': 'localhost', 'port': 9200}])"
   ]
  },
  {
   "cell_type": "code",
   "execution_count": 3,
   "metadata": {},
   "outputs": [
    {
     "name": "stderr",
     "output_type": "stream",
     "text": [
      "/tmp/ipykernel_11825/3176541370.py:46: DeprecationWarning: The 'body' parameter is deprecated for the 'search' API and will be removed in a future version. Instead use API parameters directly. See https://github.com/elastic/elasticsearch-py/issues/1698 for more information\n",
      "  res = es.search(index=\"rdrs110722\", body = query)\n"
     ]
    }
   ],
   "source": [
    "query = {\n",
    "    \"query\": {\n",
    "        \"bool\": {\n",
    "            \"must\": [\n",
    "                {\n",
    "                    \"multi_match\": {\n",
    "                        \"query\": \"\",\n",
    "                        \"fuzziness\": \"AUTO\",\n",
    "                        \"fields\": [\n",
    "                            \"phrase\",#,#,\n",
    "                            \"phrase.ext\"\n",
    "                            #\"phrase.bigrams\"\n",
    "                            #\"phrase.ngram\"\n",
    "                        ]\n",
    "                    }\n",
    "                },\n",
    "            ],\n",
    "            \"should\": [\n",
    "                {\n",
    "                    \"multi_match\": {\n",
    "                        \"query\": \"\",\n",
    "                        \"fuzziness\": 1,\n",
    "                        \"fields\": [\n",
    "                            \"norm_phrase\"\n",
    "                            #\"norm_phrase.bigrams\"\n",
    "                            #\"norm_phrase.ngram\"\n",
    "                        ]\n",
    "                    }\n",
    "                }\n",
    "            ]\n",
    "        }\n",
    "    },\n",
    "    \"size\": 25,\n",
    "    \"sort\": {\n",
    "        \"_score\": {\n",
    "            \"order\": \"desc\"\n",
    "        }\n",
    "    },\n",
    "}\n",
    "\n",
    "query = {\n",
    "    \"query\": {\n",
    "        \"match_all\": {}\n",
    "    }\n",
    "}\n",
    "res = es.search(index=\"rdrs110722\", body = query)"
   ]
  },
  {
   "cell_type": "code",
   "execution_count": 163,
   "metadata": {},
   "outputs": [],
   "source": [
    "s = Search(using=es, index=\"rdrs110722\").source([\"Drugname_kw\", \"Diseasename_kw\", \"review_url_kw\"]).query(\"match_all\")"
   ]
  },
  {
   "cell_type": "code",
   "execution_count": 156,
   "metadata": {},
   "outputs": [],
   "source": [
    "s = Search(using=es, index=\"rdrs110722\").source([\"Drugname_kw\", \"Diseasename_kw\", \"review_url_kw\"]).aggs.bucket(\"UniqueDrugnames\", agg_type=\"terms\", field=\"Drugname_kw\")"
   ]
  },
  {
   "cell_type": "code",
   "execution_count": 164,
   "metadata": {
    "scrolled": true
   },
   "outputs": [],
   "source": [
    "response = s.execute()"
   ]
  },
  {
   "cell_type": "code",
   "execution_count": 165,
   "metadata": {
    "scrolled": true
   },
   "outputs": [],
   "source": [
    "listed = []\n",
    "#for hit in s[0:3800]:\n",
    "for hit in s.scan():\n",
    "    listed.append(hit.to_dict())"
   ]
  },
  {
   "cell_type": "code",
   "execution_count": 148,
   "metadata": {},
   "outputs": [],
   "source": [
    "res = s.aggs.bucket(\"UniqueDrugnames\", agg_type=\"terms\", field=\"Drugname_kw\").bucket(\"UniqueDrugnames\", agg_type=\"sum\", field=\"Diseasename_kw\"\n"
   ]
  },
  {
   "cell_type": "code",
   "execution_count": 170,
   "metadata": {},
   "outputs": [
    {
     "ename": "RequestError",
     "evalue": "RequestError(400, 'search_phase_execution_exception', 'Text fields are not optimised for operations that require per-document field data like aggregations and sorting, so these operations are disabled by default. Please use a keyword field instead. Alternatively, set fielddata=true on [Drugname_kw] in order to load field data by uninverting the inverted index. Note that this can use significant memory.')",
     "output_type": "error",
     "traceback": [
      "\u001b[0;31m---------------------------------------------------------------------------\u001b[0m",
      "\u001b[0;31mRequestError\u001b[0m                              Traceback (most recent call last)",
      "Input \u001b[0;32mIn [170]\u001b[0m, in \u001b[0;36m<cell line: 3>\u001b[0;34m()\u001b[0m\n\u001b[1;32m      1\u001b[0m s \u001b[38;5;241m=\u001b[39m Search(using\u001b[38;5;241m=\u001b[39mes, index\u001b[38;5;241m=\u001b[39m\u001b[38;5;124m\"\u001b[39m\u001b[38;5;124mrdrs110722\u001b[39m\u001b[38;5;124m\"\u001b[39m)\u001b[38;5;241m.\u001b[39msource([\u001b[38;5;124m\"\u001b[39m\u001b[38;5;124mDrugname_kw\u001b[39m\u001b[38;5;124m\"\u001b[39m])\u001b[38;5;241m.\u001b[39mquery(\u001b[38;5;124m\"\u001b[39m\u001b[38;5;124mmatch_all\u001b[39m\u001b[38;5;124m\"\u001b[39m)\n\u001b[1;32m      2\u001b[0m s\u001b[38;5;241m.\u001b[39maggs\u001b[38;5;241m.\u001b[39mbucket(\u001b[38;5;124m\"\u001b[39m\u001b[38;5;124mdrugs\u001b[39m\u001b[38;5;124m\"\u001b[39m, A(\u001b[38;5;124m\"\u001b[39m\u001b[38;5;124mcardinality\u001b[39m\u001b[38;5;124m\"\u001b[39m, field\u001b[38;5;241m=\u001b[39m\u001b[38;5;124m\"\u001b[39m\u001b[38;5;124mDrugname_kw\u001b[39m\u001b[38;5;124m\"\u001b[39m))\n\u001b[0;32m----> 3\u001b[0m res \u001b[38;5;241m=\u001b[39m \u001b[43ms\u001b[49m\u001b[38;5;241;43m.\u001b[39;49m\u001b[43mexecute\u001b[49m\u001b[43m(\u001b[49m\u001b[43m)\u001b[49m\n",
      "File \u001b[0;32m~/anaconda3/envs/normalization/lib/python3.8/site-packages/elasticsearch_dsl/search.py:715\u001b[0m, in \u001b[0;36mSearch.execute\u001b[0;34m(self, ignore_cache)\u001b[0m\n\u001b[1;32m    711\u001b[0m \u001b[38;5;28;01mif\u001b[39;00m ignore_cache \u001b[38;5;129;01mor\u001b[39;00m \u001b[38;5;129;01mnot\u001b[39;00m \u001b[38;5;28mhasattr\u001b[39m(\u001b[38;5;28mself\u001b[39m, \u001b[38;5;124m\"\u001b[39m\u001b[38;5;124m_response\u001b[39m\u001b[38;5;124m\"\u001b[39m):\n\u001b[1;32m    712\u001b[0m     es \u001b[38;5;241m=\u001b[39m get_connection(\u001b[38;5;28mself\u001b[39m\u001b[38;5;241m.\u001b[39m_using)\n\u001b[1;32m    714\u001b[0m     \u001b[38;5;28mself\u001b[39m\u001b[38;5;241m.\u001b[39m_response \u001b[38;5;241m=\u001b[39m \u001b[38;5;28mself\u001b[39m\u001b[38;5;241m.\u001b[39m_response_class(\n\u001b[0;32m--> 715\u001b[0m         \u001b[38;5;28mself\u001b[39m, \u001b[43mes\u001b[49m\u001b[38;5;241;43m.\u001b[39;49m\u001b[43msearch\u001b[49m\u001b[43m(\u001b[49m\u001b[43mindex\u001b[49m\u001b[38;5;241;43m=\u001b[39;49m\u001b[38;5;28;43mself\u001b[39;49m\u001b[38;5;241;43m.\u001b[39;49m\u001b[43m_index\u001b[49m\u001b[43m,\u001b[49m\u001b[43m \u001b[49m\u001b[43mbody\u001b[49m\u001b[38;5;241;43m=\u001b[39;49m\u001b[38;5;28;43mself\u001b[39;49m\u001b[38;5;241;43m.\u001b[39;49m\u001b[43mto_dict\u001b[49m\u001b[43m(\u001b[49m\u001b[43m)\u001b[49m\u001b[43m,\u001b[49m\u001b[43m \u001b[49m\u001b[38;5;241;43m*\u001b[39;49m\u001b[38;5;241;43m*\u001b[39;49m\u001b[38;5;28;43mself\u001b[39;49m\u001b[38;5;241;43m.\u001b[39;49m\u001b[43m_params\u001b[49m\u001b[43m)\u001b[49m\n\u001b[1;32m    716\u001b[0m     )\n\u001b[1;32m    717\u001b[0m \u001b[38;5;28;01mreturn\u001b[39;00m \u001b[38;5;28mself\u001b[39m\u001b[38;5;241m.\u001b[39m_response\n",
      "File \u001b[0;32m~/anaconda3/envs/normalization/lib/python3.8/site-packages/elasticsearch/client/utils.py:347\u001b[0m, in \u001b[0;36mquery_params.<locals>._wrapper.<locals>._wrapped\u001b[0;34m(*args, **kwargs)\u001b[0m\n\u001b[1;32m    345\u001b[0m     \u001b[38;5;28;01mif\u001b[39;00m p \u001b[38;5;129;01min\u001b[39;00m kwargs:\n\u001b[1;32m    346\u001b[0m         params[p] \u001b[38;5;241m=\u001b[39m kwargs\u001b[38;5;241m.\u001b[39mpop(p)\n\u001b[0;32m--> 347\u001b[0m \u001b[38;5;28;01mreturn\u001b[39;00m \u001b[43mfunc\u001b[49m\u001b[43m(\u001b[49m\u001b[38;5;241;43m*\u001b[39;49m\u001b[43margs\u001b[49m\u001b[43m,\u001b[49m\u001b[43m \u001b[49m\u001b[43mparams\u001b[49m\u001b[38;5;241;43m=\u001b[39;49m\u001b[43mparams\u001b[49m\u001b[43m,\u001b[49m\u001b[43m \u001b[49m\u001b[43mheaders\u001b[49m\u001b[38;5;241;43m=\u001b[39;49m\u001b[43mheaders\u001b[49m\u001b[43m,\u001b[49m\u001b[43m \u001b[49m\u001b[38;5;241;43m*\u001b[39;49m\u001b[38;5;241;43m*\u001b[39;49m\u001b[43mkwargs\u001b[49m\u001b[43m)\u001b[49m\n",
      "File \u001b[0;32m~/anaconda3/envs/normalization/lib/python3.8/site-packages/elasticsearch/client/__init__.py:1821\u001b[0m, in \u001b[0;36mElasticsearch.search\u001b[0;34m(self, body, index, doc_type, params, headers)\u001b[0m\n\u001b[1;32m   1818\u001b[0m \u001b[38;5;28;01mif\u001b[39;00m \u001b[38;5;124m\"\u001b[39m\u001b[38;5;124mfrom_\u001b[39m\u001b[38;5;124m\"\u001b[39m \u001b[38;5;129;01min\u001b[39;00m params:\n\u001b[1;32m   1819\u001b[0m     params[\u001b[38;5;124m\"\u001b[39m\u001b[38;5;124mfrom\u001b[39m\u001b[38;5;124m\"\u001b[39m] \u001b[38;5;241m=\u001b[39m params\u001b[38;5;241m.\u001b[39mpop(\u001b[38;5;124m\"\u001b[39m\u001b[38;5;124mfrom_\u001b[39m\u001b[38;5;124m\"\u001b[39m)\n\u001b[0;32m-> 1821\u001b[0m \u001b[38;5;28;01mreturn\u001b[39;00m \u001b[38;5;28;43mself\u001b[39;49m\u001b[38;5;241;43m.\u001b[39;49m\u001b[43mtransport\u001b[49m\u001b[38;5;241;43m.\u001b[39;49m\u001b[43mperform_request\u001b[49m\u001b[43m(\u001b[49m\n\u001b[1;32m   1822\u001b[0m \u001b[43m    \u001b[49m\u001b[38;5;124;43m\"\u001b[39;49m\u001b[38;5;124;43mPOST\u001b[39;49m\u001b[38;5;124;43m\"\u001b[39;49m\u001b[43m,\u001b[49m\n\u001b[1;32m   1823\u001b[0m \u001b[43m    \u001b[49m\u001b[43m_make_path\u001b[49m\u001b[43m(\u001b[49m\u001b[43mindex\u001b[49m\u001b[43m,\u001b[49m\u001b[43m \u001b[49m\u001b[43mdoc_type\u001b[49m\u001b[43m,\u001b[49m\u001b[43m \u001b[49m\u001b[38;5;124;43m\"\u001b[39;49m\u001b[38;5;124;43m_search\u001b[39;49m\u001b[38;5;124;43m\"\u001b[39;49m\u001b[43m)\u001b[49m\u001b[43m,\u001b[49m\n\u001b[1;32m   1824\u001b[0m \u001b[43m    \u001b[49m\u001b[43mparams\u001b[49m\u001b[38;5;241;43m=\u001b[39;49m\u001b[43mparams\u001b[49m\u001b[43m,\u001b[49m\n\u001b[1;32m   1825\u001b[0m \u001b[43m    \u001b[49m\u001b[43mheaders\u001b[49m\u001b[38;5;241;43m=\u001b[39;49m\u001b[43mheaders\u001b[49m\u001b[43m,\u001b[49m\n\u001b[1;32m   1826\u001b[0m \u001b[43m    \u001b[49m\u001b[43mbody\u001b[49m\u001b[38;5;241;43m=\u001b[39;49m\u001b[43mbody\u001b[49m\u001b[43m,\u001b[49m\n\u001b[1;32m   1827\u001b[0m \u001b[43m\u001b[49m\u001b[43m)\u001b[49m\n",
      "File \u001b[0;32m~/anaconda3/envs/normalization/lib/python3.8/site-packages/elasticsearch/transport.py:466\u001b[0m, in \u001b[0;36mTransport.perform_request\u001b[0;34m(self, method, url, headers, params, body)\u001b[0m\n\u001b[1;32m    464\u001b[0m             \u001b[38;5;28;01mraise\u001b[39;00m e\n\u001b[1;32m    465\u001b[0m     \u001b[38;5;28;01melse\u001b[39;00m:\n\u001b[0;32m--> 466\u001b[0m         \u001b[38;5;28;01mraise\u001b[39;00m e\n\u001b[1;32m    468\u001b[0m \u001b[38;5;28;01melse\u001b[39;00m:\n\u001b[1;32m    469\u001b[0m     \u001b[38;5;66;03m# connection didn't fail, confirm it's live status\u001b[39;00m\n\u001b[1;32m    470\u001b[0m     \u001b[38;5;28mself\u001b[39m\u001b[38;5;241m.\u001b[39mconnection_pool\u001b[38;5;241m.\u001b[39mmark_live(connection)\n",
      "File \u001b[0;32m~/anaconda3/envs/normalization/lib/python3.8/site-packages/elasticsearch/transport.py:427\u001b[0m, in \u001b[0;36mTransport.perform_request\u001b[0;34m(self, method, url, headers, params, body)\u001b[0m\n\u001b[1;32m    424\u001b[0m connection \u001b[38;5;241m=\u001b[39m \u001b[38;5;28mself\u001b[39m\u001b[38;5;241m.\u001b[39mget_connection()\n\u001b[1;32m    426\u001b[0m \u001b[38;5;28;01mtry\u001b[39;00m:\n\u001b[0;32m--> 427\u001b[0m     status, headers_response, data \u001b[38;5;241m=\u001b[39m \u001b[43mconnection\u001b[49m\u001b[38;5;241;43m.\u001b[39;49m\u001b[43mperform_request\u001b[49m\u001b[43m(\u001b[49m\n\u001b[1;32m    428\u001b[0m \u001b[43m        \u001b[49m\u001b[43mmethod\u001b[49m\u001b[43m,\u001b[49m\n\u001b[1;32m    429\u001b[0m \u001b[43m        \u001b[49m\u001b[43murl\u001b[49m\u001b[43m,\u001b[49m\n\u001b[1;32m    430\u001b[0m \u001b[43m        \u001b[49m\u001b[43mparams\u001b[49m\u001b[43m,\u001b[49m\n\u001b[1;32m    431\u001b[0m \u001b[43m        \u001b[49m\u001b[43mbody\u001b[49m\u001b[43m,\u001b[49m\n\u001b[1;32m    432\u001b[0m \u001b[43m        \u001b[49m\u001b[43mheaders\u001b[49m\u001b[38;5;241;43m=\u001b[39;49m\u001b[43mheaders\u001b[49m\u001b[43m,\u001b[49m\n\u001b[1;32m    433\u001b[0m \u001b[43m        \u001b[49m\u001b[43mignore\u001b[49m\u001b[38;5;241;43m=\u001b[39;49m\u001b[43mignore\u001b[49m\u001b[43m,\u001b[49m\n\u001b[1;32m    434\u001b[0m \u001b[43m        \u001b[49m\u001b[43mtimeout\u001b[49m\u001b[38;5;241;43m=\u001b[39;49m\u001b[43mtimeout\u001b[49m\u001b[43m,\u001b[49m\n\u001b[1;32m    435\u001b[0m \u001b[43m    \u001b[49m\u001b[43m)\u001b[49m\n\u001b[1;32m    437\u001b[0m     \u001b[38;5;66;03m# Lowercase all the header names for consistency in accessing them.\u001b[39;00m\n\u001b[1;32m    438\u001b[0m     headers_response \u001b[38;5;241m=\u001b[39m {\n\u001b[1;32m    439\u001b[0m         header\u001b[38;5;241m.\u001b[39mlower(): value \u001b[38;5;28;01mfor\u001b[39;00m header, value \u001b[38;5;129;01min\u001b[39;00m headers_response\u001b[38;5;241m.\u001b[39mitems()\n\u001b[1;32m    440\u001b[0m     }\n",
      "File \u001b[0;32m~/anaconda3/envs/normalization/lib/python3.8/site-packages/elasticsearch/connection/http_urllib3.py:291\u001b[0m, in \u001b[0;36mUrllib3HttpConnection.perform_request\u001b[0;34m(self, method, url, params, body, timeout, ignore, headers)\u001b[0m\n\u001b[1;32m    287\u001b[0m \u001b[38;5;28;01mif\u001b[39;00m \u001b[38;5;129;01mnot\u001b[39;00m (\u001b[38;5;241m200\u001b[39m \u001b[38;5;241m<\u001b[39m\u001b[38;5;241m=\u001b[39m response\u001b[38;5;241m.\u001b[39mstatus \u001b[38;5;241m<\u001b[39m \u001b[38;5;241m300\u001b[39m) \u001b[38;5;129;01mand\u001b[39;00m response\u001b[38;5;241m.\u001b[39mstatus \u001b[38;5;129;01mnot\u001b[39;00m \u001b[38;5;129;01min\u001b[39;00m ignore:\n\u001b[1;32m    288\u001b[0m     \u001b[38;5;28mself\u001b[39m\u001b[38;5;241m.\u001b[39mlog_request_fail(\n\u001b[1;32m    289\u001b[0m         method, full_url, url, orig_body, duration, response\u001b[38;5;241m.\u001b[39mstatus, raw_data\n\u001b[1;32m    290\u001b[0m     )\n\u001b[0;32m--> 291\u001b[0m     \u001b[38;5;28;43mself\u001b[39;49m\u001b[38;5;241;43m.\u001b[39;49m\u001b[43m_raise_error\u001b[49m\u001b[43m(\u001b[49m\u001b[43mresponse\u001b[49m\u001b[38;5;241;43m.\u001b[39;49m\u001b[43mstatus\u001b[49m\u001b[43m,\u001b[49m\u001b[43m \u001b[49m\u001b[43mraw_data\u001b[49m\u001b[43m)\u001b[49m\n\u001b[1;32m    293\u001b[0m \u001b[38;5;28mself\u001b[39m\u001b[38;5;241m.\u001b[39mlog_request_success(\n\u001b[1;32m    294\u001b[0m     method, full_url, url, orig_body, response\u001b[38;5;241m.\u001b[39mstatus, raw_data, duration\n\u001b[1;32m    295\u001b[0m )\n\u001b[1;32m    297\u001b[0m \u001b[38;5;28;01mreturn\u001b[39;00m response\u001b[38;5;241m.\u001b[39mstatus, response_headers, raw_data\n",
      "File \u001b[0;32m~/anaconda3/envs/normalization/lib/python3.8/site-packages/elasticsearch/connection/base.py:328\u001b[0m, in \u001b[0;36mConnection._raise_error\u001b[0;34m(self, status_code, raw_data)\u001b[0m\n\u001b[1;32m    325\u001b[0m \u001b[38;5;28;01mexcept\u001b[39;00m (\u001b[38;5;167;01mValueError\u001b[39;00m, \u001b[38;5;167;01mTypeError\u001b[39;00m) \u001b[38;5;28;01mas\u001b[39;00m err:\n\u001b[1;32m    326\u001b[0m     logger\u001b[38;5;241m.\u001b[39mwarning(\u001b[38;5;124m\"\u001b[39m\u001b[38;5;124mUndecodable raw error response from server: \u001b[39m\u001b[38;5;132;01m%s\u001b[39;00m\u001b[38;5;124m\"\u001b[39m, err)\n\u001b[0;32m--> 328\u001b[0m \u001b[38;5;28;01mraise\u001b[39;00m HTTP_EXCEPTIONS\u001b[38;5;241m.\u001b[39mget(status_code, TransportError)(\n\u001b[1;32m    329\u001b[0m     status_code, error_message, additional_info\n\u001b[1;32m    330\u001b[0m )\n",
      "\u001b[0;31mRequestError\u001b[0m: RequestError(400, 'search_phase_execution_exception', 'Text fields are not optimised for operations that require per-document field data like aggregations and sorting, so these operations are disabled by default. Please use a keyword field instead. Alternatively, set fielddata=true on [Drugname_kw] in order to load field data by uninverting the inverted index. Note that this can use significant memory.')"
     ]
    }
   ],
   "source": [
    "s = Search(using=es, index=\"rdrs110722\").source([\"Drugname_kw\", \"Diseasename_kw\", \"review_url_kw\"]).query(\"match_all\")\n",
    "s.aggs.bucket(\"drugs\", A(\"cardinality\", field=\"Drugname_kw\"))\n",
    "res = s.execute()"
   ]
  },
  {
   "cell_type": "code",
   "execution_count": 123,
   "metadata": {},
   "outputs": [
    {
     "ename": "TypeError",
     "evalue": "'<' not supported between instances of 'str' and 'int'",
     "output_type": "error",
     "traceback": [
      "\u001b[0;31m---------------------------------------------------------------------------\u001b[0m",
      "\u001b[0;31mTypeError\u001b[0m                                 Traceback (most recent call last)",
      "Input \u001b[0;32mIn [123]\u001b[0m, in \u001b[0;36m<cell line: 1>\u001b[0;34m()\u001b[0m\n\u001b[0;32m----> 1\u001b[0m \u001b[43ms\u001b[49m\u001b[43m[\u001b[49m\u001b[38;5;124;43m\"\u001b[39;49m\u001b[38;5;124;43mUniqueDrugnames\u001b[39;49m\u001b[38;5;124;43m\"\u001b[39;49m\u001b[43m]\u001b[49m\u001b[38;5;241m.\u001b[39mbucket(\u001b[38;5;124m\"\u001b[39m\u001b[38;5;124mtags_per_category\u001b[39m\u001b[38;5;124m\"\u001b[39m)\n",
      "File \u001b[0;32m~/anaconda3/envs/normalization/lib/python3.8/site-packages/elasticsearch_dsl/search.py:376\u001b[0m, in \u001b[0;36mSearch.__getitem__\u001b[0;34m(self, n)\u001b[0m\n\u001b[1;32m    373\u001b[0m     \u001b[38;5;28;01mreturn\u001b[39;00m s\n\u001b[1;32m    374\u001b[0m \u001b[38;5;28;01melse\u001b[39;00m:  \u001b[38;5;66;03m# This is an index lookup, equivalent to slicing by [n:n+1].\u001b[39;00m\n\u001b[1;32m    375\u001b[0m     \u001b[38;5;66;03m# If negative index, abort.\u001b[39;00m\n\u001b[0;32m--> 376\u001b[0m     \u001b[38;5;28;01mif\u001b[39;00m \u001b[43mn\u001b[49m\u001b[43m \u001b[49m\u001b[38;5;241;43m<\u001b[39;49m\u001b[43m \u001b[49m\u001b[38;5;241;43m0\u001b[39;49m:\n\u001b[1;32m    377\u001b[0m         \u001b[38;5;28;01mraise\u001b[39;00m \u001b[38;5;167;01mValueError\u001b[39;00m(\u001b[38;5;124m\"\u001b[39m\u001b[38;5;124mSearch does not support negative indexing.\u001b[39m\u001b[38;5;124m\"\u001b[39m)\n\u001b[1;32m    378\u001b[0m     s\u001b[38;5;241m.\u001b[39m_extra[\u001b[38;5;124m\"\u001b[39m\u001b[38;5;124mfrom\u001b[39m\u001b[38;5;124m\"\u001b[39m] \u001b[38;5;241m=\u001b[39m n\n",
      "\u001b[0;31mTypeError\u001b[0m: '<' not supported between instances of 'str' and 'int'"
     ]
    }
   ],
   "source": [
    "s[\"UniqueDrugnames\"].bucket(\"tags_per_category\")"
   ]
  },
  {
   "cell_type": "code",
   "execution_count": 166,
   "metadata": {},
   "outputs": [
    {
     "data": {
      "text/html": [
       "<div>\n",
       "<style scoped>\n",
       "    .dataframe tbody tr th:only-of-type {\n",
       "        vertical-align: middle;\n",
       "    }\n",
       "\n",
       "    .dataframe tbody tr th {\n",
       "        vertical-align: top;\n",
       "    }\n",
       "\n",
       "    .dataframe thead th {\n",
       "        text-align: right;\n",
       "    }\n",
       "</style>\n",
       "<table border=\"1\" class=\"dataframe\">\n",
       "  <thead>\n",
       "    <tr style=\"text-align: right;\">\n",
       "      <th></th>\n",
       "      <th>Drugname_kw</th>\n",
       "      <th>Diseasename_kw</th>\n",
       "    </tr>\n",
       "  </thead>\n",
       "  <tbody>\n",
       "    <tr>\n",
       "      <th>0</th>\n",
       "      <td>[Амиксин]</td>\n",
       "      <td>[герпеса, Герпес]</td>\n",
       "    </tr>\n",
       "    <tr>\n",
       "      <th>1</th>\n",
       "      <td>[Иммунофлазид, Иммунофлазид]</td>\n",
       "      <td>[ГРВИ, грипа]</td>\n",
       "    </tr>\n",
       "    <tr>\n",
       "      <th>2</th>\n",
       "      <td>[Гавискон, Гавискон, Гавискон]</td>\n",
       "      <td>NaN</td>\n",
       "    </tr>\n",
       "    <tr>\n",
       "      <th>3</th>\n",
       "      <td>[Феназепам]</td>\n",
       "      <td>NaN</td>\n",
       "    </tr>\n",
       "    <tr>\n",
       "      <th>4</th>\n",
       "      <td>[Виферон]</td>\n",
       "      <td>[простуд]</td>\n",
       "    </tr>\n",
       "    <tr>\n",
       "      <th>...</th>\n",
       "      <td>...</td>\n",
       "      <td>...</td>\n",
       "    </tr>\n",
       "    <tr>\n",
       "      <th>3816</th>\n",
       "      <td>[Кленбутерол, кленбутерол]</td>\n",
       "      <td>NaN</td>\n",
       "    </tr>\n",
       "    <tr>\n",
       "      <th>3817</th>\n",
       "      <td>[Леденцы Вулкан Лакричные, леденцах лакричных,...</td>\n",
       "      <td>NaN</td>\n",
       "    </tr>\n",
       "    <tr>\n",
       "      <th>3818</th>\n",
       "      <td>[Диафлекс РОМФАРМ, Диафлекс, омепрозол, Диафле...</td>\n",
       "      <td>NaN</td>\n",
       "    </tr>\n",
       "    <tr>\n",
       "      <th>3819</th>\n",
       "      <td>[Целебрекс, цереблекс]</td>\n",
       "      <td>[обострении радикулита]</td>\n",
       "    </tr>\n",
       "    <tr>\n",
       "      <th>3820</th>\n",
       "      <td>[Флуконазол, Флуконазол, Клотримазол, Дифлюкан...</td>\n",
       "      <td>[молочницу, Молочница]</td>\n",
       "    </tr>\n",
       "  </tbody>\n",
       "</table>\n",
       "<p>3821 rows × 2 columns</p>\n",
       "</div>"
      ],
      "text/plain": [
       "                                            Drugname_kw  \\\n",
       "0                                             [Амиксин]   \n",
       "1                          [Иммунофлазид, Иммунофлазид]   \n",
       "2                        [Гавискон, Гавискон, Гавискон]   \n",
       "3                                           [Феназепам]   \n",
       "4                                             [Виферон]   \n",
       "...                                                 ...   \n",
       "3816                         [Кленбутерол, кленбутерол]   \n",
       "3817  [Леденцы Вулкан Лакричные, леденцах лакричных,...   \n",
       "3818  [Диафлекс РОМФАРМ, Диафлекс, омепрозол, Диафле...   \n",
       "3819                             [Целебрекс, цереблекс]   \n",
       "3820  [Флуконазол, Флуконазол, Клотримазол, Дифлюкан...   \n",
       "\n",
       "               Diseasename_kw  \n",
       "0           [герпеса, Герпес]  \n",
       "1               [ГРВИ, грипа]  \n",
       "2                         NaN  \n",
       "3                         NaN  \n",
       "4                   [простуд]  \n",
       "...                       ...  \n",
       "3816                      NaN  \n",
       "3817                      NaN  \n",
       "3818                      NaN  \n",
       "3819  [обострении радикулита]  \n",
       "3820   [молочницу, Молочница]  \n",
       "\n",
       "[3821 rows x 2 columns]"
      ]
     },
     "execution_count": 166,
     "metadata": {},
     "output_type": "execute_result"
    }
   ],
   "source": [
    "pd.DataFrame(listed)"
   ]
  },
  {
   "cell_type": "markdown",
   "metadata": {},
   "source": [
    "# простой индекс"
   ]
  },
  {
   "cell_type": "code",
   "execution_count": 221,
   "metadata": {},
   "outputs": [],
   "source": [
    "#s = Search(using=es, index=\"rdrs110722_scheme2\").query(\"match_all\")\n",
    "#s = Search(using=es, index=\"rdrs110722_scheme2\").query(\"match\", Indications=\"кашель, насморк\")\n",
    "s = Search(using=es, index=\"med800k_scheme2\").query(\"match_all\").count()\n",
    "s = Search(using=es, index=\"med800k_scheme2\").query(\"match\", Indications=\"кашель, насморк\").count()"
   ]
  },
  {
   "cell_type": "code",
   "execution_count": 222,
   "metadata": {},
   "outputs": [
    {
     "data": {
      "text/plain": [
       "23859"
      ]
     },
     "execution_count": 222,
     "metadata": {},
     "output_type": "execute_result"
    }
   ],
   "source": [
    "s"
   ]
  },
  {
   "cell_type": "code",
   "execution_count": 213,
   "metadata": {},
   "outputs": [
    {
     "ename": "AttributeError",
     "evalue": "'int' object has no attribute 'execute'",
     "output_type": "error",
     "traceback": [
      "\u001b[0;31m---------------------------------------------------------------------------\u001b[0m",
      "\u001b[0;31mAttributeError\u001b[0m                            Traceback (most recent call last)",
      "Input \u001b[0;32mIn [213]\u001b[0m, in \u001b[0;36m<cell line: 1>\u001b[0;34m()\u001b[0m\n\u001b[0;32m----> 1\u001b[0m res \u001b[38;5;241m=\u001b[39m \u001b[43ms\u001b[49m\u001b[38;5;241;43m.\u001b[39;49m\u001b[43mexecute\u001b[49m()\n\u001b[1;32m      2\u001b[0m res\n",
      "\u001b[0;31mAttributeError\u001b[0m: 'int' object has no attribute 'execute'"
     ]
    }
   ],
   "source": [
    "res = s.execute()\n",
    "res"
   ]
  },
  {
   "cell_type": "code",
   "execution_count": 195,
   "metadata": {},
   "outputs": [
    {
     "ename": "KeyboardInterrupt",
     "evalue": "",
     "output_type": "error",
     "traceback": [
      "\u001b[0;31m---------------------------------------------------------------------------\u001b[0m",
      "\u001b[0;31mKeyboardInterrupt\u001b[0m                         Traceback (most recent call last)",
      "Input \u001b[0;32mIn [195]\u001b[0m, in \u001b[0;36m<cell line: 3>\u001b[0;34m()\u001b[0m\n\u001b[1;32m      1\u001b[0m listed \u001b[38;5;241m=\u001b[39m []\n\u001b[1;32m      2\u001b[0m \u001b[38;5;66;03m#for hit in s[0:3800]:\u001b[39;00m\n\u001b[0;32m----> 3\u001b[0m \u001b[38;5;28;01mfor\u001b[39;00m hit \u001b[38;5;129;01min\u001b[39;00m s\u001b[38;5;241m.\u001b[39mscan():\n\u001b[1;32m      4\u001b[0m     listed\u001b[38;5;241m.\u001b[39mappend(hit\u001b[38;5;241m.\u001b[39mto_dict())\n",
      "File \u001b[0;32m~/anaconda3/envs/normalization/lib/python3.8/site-packages/elasticsearch_dsl/search.py:731\u001b[0m, in \u001b[0;36mSearch.scan\u001b[0;34m(self)\u001b[0m\n\u001b[1;32m    720\u001b[0m \u001b[38;5;124;03m\"\"\"\u001b[39;00m\n\u001b[1;32m    721\u001b[0m \u001b[38;5;124;03mTurn the search into a scan search and return a generator that will\u001b[39;00m\n\u001b[1;32m    722\u001b[0m \u001b[38;5;124;03miterate over all the documents matching the query.\u001b[39;00m\n\u001b[0;32m   (...)\u001b[0m\n\u001b[1;32m    727\u001b[0m \n\u001b[1;32m    728\u001b[0m \u001b[38;5;124;03m\"\"\"\u001b[39;00m\n\u001b[1;32m    729\u001b[0m es \u001b[38;5;241m=\u001b[39m get_connection(\u001b[38;5;28mself\u001b[39m\u001b[38;5;241m.\u001b[39m_using)\n\u001b[0;32m--> 731\u001b[0m \u001b[38;5;28;01mfor\u001b[39;00m hit \u001b[38;5;129;01min\u001b[39;00m scan(es, query\u001b[38;5;241m=\u001b[39m\u001b[38;5;28mself\u001b[39m\u001b[38;5;241m.\u001b[39mto_dict(), index\u001b[38;5;241m=\u001b[39m\u001b[38;5;28mself\u001b[39m\u001b[38;5;241m.\u001b[39m_index, \u001b[38;5;241m*\u001b[39m\u001b[38;5;241m*\u001b[39m\u001b[38;5;28mself\u001b[39m\u001b[38;5;241m.\u001b[39m_params):\n\u001b[1;32m    732\u001b[0m     \u001b[38;5;28;01myield\u001b[39;00m \u001b[38;5;28mself\u001b[39m\u001b[38;5;241m.\u001b[39m_get_result(hit)\n",
      "File \u001b[0;32m~/anaconda3/envs/normalization/lib/python3.8/site-packages/elasticsearch/helpers/actions.py:618\u001b[0m, in \u001b[0;36mscan\u001b[0;34m(client, query, scroll, raise_on_error, preserve_order, size, request_timeout, clear_scroll, scroll_kwargs, **kwargs)\u001b[0m\n\u001b[1;32m    607\u001b[0m                 \u001b[38;5;28;01mraise\u001b[39;00m ScanError(\n\u001b[1;32m    608\u001b[0m                     scroll_id,\n\u001b[1;32m    609\u001b[0m                     shards_message\n\u001b[0;32m   (...)\u001b[0m\n\u001b[1;32m    614\u001b[0m                     ),\n\u001b[1;32m    615\u001b[0m                 )\n\u001b[1;32m    617\u001b[0m         scroll_kwargs[\u001b[38;5;124m\"\u001b[39m\u001b[38;5;124mscroll_id\u001b[39m\u001b[38;5;124m\"\u001b[39m] \u001b[38;5;241m=\u001b[39m scroll_id\n\u001b[0;32m--> 618\u001b[0m         resp \u001b[38;5;241m=\u001b[39m \u001b[43mclient\u001b[49m\u001b[38;5;241;43m.\u001b[39;49m\u001b[43mscroll\u001b[49m\u001b[43m(\u001b[49m\u001b[38;5;241;43m*\u001b[39;49m\u001b[38;5;241;43m*\u001b[39;49m\u001b[43mscroll_kwargs\u001b[49m\u001b[43m)\u001b[49m\n\u001b[1;32m    619\u001b[0m         scroll_id \u001b[38;5;241m=\u001b[39m resp\u001b[38;5;241m.\u001b[39mget(\u001b[38;5;124m\"\u001b[39m\u001b[38;5;124m_scroll_id\u001b[39m\u001b[38;5;124m\"\u001b[39m)\n\u001b[1;32m    621\u001b[0m \u001b[38;5;28;01mfinally\u001b[39;00m:\n",
      "File \u001b[0;32m~/anaconda3/envs/normalization/lib/python3.8/site-packages/elasticsearch/client/utils.py:347\u001b[0m, in \u001b[0;36mquery_params.<locals>._wrapper.<locals>._wrapped\u001b[0;34m(*args, **kwargs)\u001b[0m\n\u001b[1;32m    345\u001b[0m     \u001b[38;5;28;01mif\u001b[39;00m p \u001b[38;5;129;01min\u001b[39;00m kwargs:\n\u001b[1;32m    346\u001b[0m         params[p] \u001b[38;5;241m=\u001b[39m kwargs\u001b[38;5;241m.\u001b[39mpop(p)\n\u001b[0;32m--> 347\u001b[0m \u001b[38;5;28;01mreturn\u001b[39;00m \u001b[43mfunc\u001b[49m\u001b[43m(\u001b[49m\u001b[38;5;241;43m*\u001b[39;49m\u001b[43margs\u001b[49m\u001b[43m,\u001b[49m\u001b[43m \u001b[49m\u001b[43mparams\u001b[49m\u001b[38;5;241;43m=\u001b[39;49m\u001b[43mparams\u001b[49m\u001b[43m,\u001b[49m\u001b[43m \u001b[49m\u001b[43mheaders\u001b[49m\u001b[38;5;241;43m=\u001b[39;49m\u001b[43mheaders\u001b[49m\u001b[43m,\u001b[49m\u001b[43m \u001b[49m\u001b[38;5;241;43m*\u001b[39;49m\u001b[38;5;241;43m*\u001b[39;49m\u001b[43mkwargs\u001b[49m\u001b[43m)\u001b[49m\n",
      "File \u001b[0;32m~/anaconda3/envs/normalization/lib/python3.8/site-packages/elasticsearch/client/__init__.py:1570\u001b[0m, in \u001b[0;36mElasticsearch.scroll\u001b[0;34m(self, body, scroll_id, params, headers)\u001b[0m\n\u001b[1;32m   1567\u001b[0m \u001b[38;5;28;01melif\u001b[39;00m scroll_id:\n\u001b[1;32m   1568\u001b[0m     params[\u001b[38;5;124m\"\u001b[39m\u001b[38;5;124mscroll_id\u001b[39m\u001b[38;5;124m\"\u001b[39m] \u001b[38;5;241m=\u001b[39m scroll_id\n\u001b[0;32m-> 1570\u001b[0m \u001b[38;5;28;01mreturn\u001b[39;00m \u001b[38;5;28;43mself\u001b[39;49m\u001b[38;5;241;43m.\u001b[39;49m\u001b[43mtransport\u001b[49m\u001b[38;5;241;43m.\u001b[39;49m\u001b[43mperform_request\u001b[49m\u001b[43m(\u001b[49m\n\u001b[1;32m   1571\u001b[0m \u001b[43m    \u001b[49m\u001b[38;5;124;43m\"\u001b[39;49m\u001b[38;5;124;43mPOST\u001b[39;49m\u001b[38;5;124;43m\"\u001b[39;49m\u001b[43m,\u001b[49m\u001b[43m \u001b[49m\u001b[38;5;124;43m\"\u001b[39;49m\u001b[38;5;124;43m/_search/scroll\u001b[39;49m\u001b[38;5;124;43m\"\u001b[39;49m\u001b[43m,\u001b[49m\u001b[43m \u001b[49m\u001b[43mparams\u001b[49m\u001b[38;5;241;43m=\u001b[39;49m\u001b[43mparams\u001b[49m\u001b[43m,\u001b[49m\u001b[43m \u001b[49m\u001b[43mheaders\u001b[49m\u001b[38;5;241;43m=\u001b[39;49m\u001b[43mheaders\u001b[49m\u001b[43m,\u001b[49m\u001b[43m \u001b[49m\u001b[43mbody\u001b[49m\u001b[38;5;241;43m=\u001b[39;49m\u001b[43mbody\u001b[49m\n\u001b[1;32m   1572\u001b[0m \u001b[43m\u001b[49m\u001b[43m)\u001b[49m\n",
      "File \u001b[0;32m~/anaconda3/envs/normalization/lib/python3.8/site-packages/elasticsearch/transport.py:476\u001b[0m, in \u001b[0;36mTransport.perform_request\u001b[0;34m(self, method, url, headers, params, body)\u001b[0m\n\u001b[1;32m    473\u001b[0m     \u001b[38;5;28;01mreturn\u001b[39;00m \u001b[38;5;241m200\u001b[39m \u001b[38;5;241m<\u001b[39m\u001b[38;5;241m=\u001b[39m status \u001b[38;5;241m<\u001b[39m \u001b[38;5;241m300\u001b[39m\n\u001b[1;32m    475\u001b[0m \u001b[38;5;28;01mif\u001b[39;00m data:\n\u001b[0;32m--> 476\u001b[0m     data \u001b[38;5;241m=\u001b[39m \u001b[38;5;28;43mself\u001b[39;49m\u001b[38;5;241;43m.\u001b[39;49m\u001b[43mdeserializer\u001b[49m\u001b[38;5;241;43m.\u001b[39;49m\u001b[43mloads\u001b[49m\u001b[43m(\u001b[49m\n\u001b[1;32m    477\u001b[0m \u001b[43m        \u001b[49m\u001b[43mdata\u001b[49m\u001b[43m,\u001b[49m\u001b[43m \u001b[49m\u001b[43mheaders_response\u001b[49m\u001b[38;5;241;43m.\u001b[39;49m\u001b[43mget\u001b[49m\u001b[43m(\u001b[49m\u001b[38;5;124;43m\"\u001b[39;49m\u001b[38;5;124;43mcontent-type\u001b[39;49m\u001b[38;5;124;43m\"\u001b[39;49m\u001b[43m)\u001b[49m\n\u001b[1;32m    478\u001b[0m \u001b[43m    \u001b[49m\u001b[43m)\u001b[49m\n\u001b[1;32m    479\u001b[0m \u001b[38;5;28;01mreturn\u001b[39;00m data\n",
      "File \u001b[0;32m~/anaconda3/envs/normalization/lib/python3.8/site-packages/elasticsearch/serializer.py:154\u001b[0m, in \u001b[0;36mDeserializer.loads\u001b[0;34m(self, s, mimetype)\u001b[0m\n\u001b[1;32m    149\u001b[0m     \u001b[38;5;28;01mexcept\u001b[39;00m \u001b[38;5;167;01mKeyError\u001b[39;00m:\n\u001b[1;32m    150\u001b[0m         \u001b[38;5;28;01mraise\u001b[39;00m SerializationError(\n\u001b[1;32m    151\u001b[0m             \u001b[38;5;124m\"\u001b[39m\u001b[38;5;124mUnknown mimetype, unable to deserialize: \u001b[39m\u001b[38;5;132;01m%s\u001b[39;00m\u001b[38;5;124m\"\u001b[39m \u001b[38;5;241m%\u001b[39m mimetype\n\u001b[1;32m    152\u001b[0m         )\n\u001b[0;32m--> 154\u001b[0m \u001b[38;5;28;01mreturn\u001b[39;00m \u001b[43mdeserializer\u001b[49m\u001b[38;5;241;43m.\u001b[39;49m\u001b[43mloads\u001b[49m\u001b[43m(\u001b[49m\u001b[43ms\u001b[49m\u001b[43m)\u001b[49m\n",
      "File \u001b[0;32m~/anaconda3/envs/normalization/lib/python3.8/site-packages/elasticsearch/serializer.py:90\u001b[0m, in \u001b[0;36mJSONSerializer.loads\u001b[0;34m(self, s)\u001b[0m\n\u001b[1;32m     88\u001b[0m \u001b[38;5;28;01mdef\u001b[39;00m \u001b[38;5;21mloads\u001b[39m(\u001b[38;5;28mself\u001b[39m, s):\n\u001b[1;32m     89\u001b[0m     \u001b[38;5;28;01mtry\u001b[39;00m:\n\u001b[0;32m---> 90\u001b[0m         \u001b[38;5;28;01mreturn\u001b[39;00m \u001b[43mjson\u001b[49m\u001b[38;5;241;43m.\u001b[39;49m\u001b[43mloads\u001b[49m\u001b[43m(\u001b[49m\u001b[43ms\u001b[49m\u001b[43m)\u001b[49m\n\u001b[1;32m     91\u001b[0m     \u001b[38;5;28;01mexcept\u001b[39;00m (\u001b[38;5;167;01mValueError\u001b[39;00m, \u001b[38;5;167;01mTypeError\u001b[39;00m) \u001b[38;5;28;01mas\u001b[39;00m e:\n\u001b[1;32m     92\u001b[0m         \u001b[38;5;28;01mraise\u001b[39;00m SerializationError(s, e)\n",
      "File \u001b[0;32m~/anaconda3/envs/normalization/lib/python3.8/json/__init__.py:357\u001b[0m, in \u001b[0;36mloads\u001b[0;34m(s, cls, object_hook, parse_float, parse_int, parse_constant, object_pairs_hook, **kw)\u001b[0m\n\u001b[1;32m    352\u001b[0m     \u001b[38;5;28;01mdel\u001b[39;00m kw[\u001b[38;5;124m'\u001b[39m\u001b[38;5;124mencoding\u001b[39m\u001b[38;5;124m'\u001b[39m]\n\u001b[1;32m    354\u001b[0m \u001b[38;5;28;01mif\u001b[39;00m (\u001b[38;5;28mcls\u001b[39m \u001b[38;5;129;01mis\u001b[39;00m \u001b[38;5;28;01mNone\u001b[39;00m \u001b[38;5;129;01mand\u001b[39;00m object_hook \u001b[38;5;129;01mis\u001b[39;00m \u001b[38;5;28;01mNone\u001b[39;00m \u001b[38;5;129;01mand\u001b[39;00m\n\u001b[1;32m    355\u001b[0m         parse_int \u001b[38;5;129;01mis\u001b[39;00m \u001b[38;5;28;01mNone\u001b[39;00m \u001b[38;5;129;01mand\u001b[39;00m parse_float \u001b[38;5;129;01mis\u001b[39;00m \u001b[38;5;28;01mNone\u001b[39;00m \u001b[38;5;129;01mand\u001b[39;00m\n\u001b[1;32m    356\u001b[0m         parse_constant \u001b[38;5;129;01mis\u001b[39;00m \u001b[38;5;28;01mNone\u001b[39;00m \u001b[38;5;129;01mand\u001b[39;00m object_pairs_hook \u001b[38;5;129;01mis\u001b[39;00m \u001b[38;5;28;01mNone\u001b[39;00m \u001b[38;5;129;01mand\u001b[39;00m \u001b[38;5;129;01mnot\u001b[39;00m kw):\n\u001b[0;32m--> 357\u001b[0m     \u001b[38;5;28;01mreturn\u001b[39;00m \u001b[43m_default_decoder\u001b[49m\u001b[38;5;241;43m.\u001b[39;49m\u001b[43mdecode\u001b[49m\u001b[43m(\u001b[49m\u001b[43ms\u001b[49m\u001b[43m)\u001b[49m\n\u001b[1;32m    358\u001b[0m \u001b[38;5;28;01mif\u001b[39;00m \u001b[38;5;28mcls\u001b[39m \u001b[38;5;129;01mis\u001b[39;00m \u001b[38;5;28;01mNone\u001b[39;00m:\n\u001b[1;32m    359\u001b[0m     \u001b[38;5;28mcls\u001b[39m \u001b[38;5;241m=\u001b[39m JSONDecoder\n",
      "File \u001b[0;32m~/anaconda3/envs/normalization/lib/python3.8/json/decoder.py:337\u001b[0m, in \u001b[0;36mJSONDecoder.decode\u001b[0;34m(self, s, _w)\u001b[0m\n\u001b[1;32m    332\u001b[0m \u001b[38;5;28;01mdef\u001b[39;00m \u001b[38;5;21mdecode\u001b[39m(\u001b[38;5;28mself\u001b[39m, s, _w\u001b[38;5;241m=\u001b[39mWHITESPACE\u001b[38;5;241m.\u001b[39mmatch):\n\u001b[1;32m    333\u001b[0m     \u001b[38;5;124;03m\"\"\"Return the Python representation of ``s`` (a ``str`` instance\u001b[39;00m\n\u001b[1;32m    334\u001b[0m \u001b[38;5;124;03m    containing a JSON document).\u001b[39;00m\n\u001b[1;32m    335\u001b[0m \n\u001b[1;32m    336\u001b[0m \u001b[38;5;124;03m    \"\"\"\u001b[39;00m\n\u001b[0;32m--> 337\u001b[0m     obj, end \u001b[38;5;241m=\u001b[39m \u001b[38;5;28;43mself\u001b[39;49m\u001b[38;5;241;43m.\u001b[39;49m\u001b[43mraw_decode\u001b[49m\u001b[43m(\u001b[49m\u001b[43ms\u001b[49m\u001b[43m,\u001b[49m\u001b[43m \u001b[49m\u001b[43midx\u001b[49m\u001b[38;5;241;43m=\u001b[39;49m\u001b[43m_w\u001b[49m\u001b[43m(\u001b[49m\u001b[43ms\u001b[49m\u001b[43m,\u001b[49m\u001b[43m \u001b[49m\u001b[38;5;241;43m0\u001b[39;49m\u001b[43m)\u001b[49m\u001b[38;5;241;43m.\u001b[39;49m\u001b[43mend\u001b[49m\u001b[43m(\u001b[49m\u001b[43m)\u001b[49m\u001b[43m)\u001b[49m\n\u001b[1;32m    338\u001b[0m     end \u001b[38;5;241m=\u001b[39m _w(s, end)\u001b[38;5;241m.\u001b[39mend()\n\u001b[1;32m    339\u001b[0m     \u001b[38;5;28;01mif\u001b[39;00m end \u001b[38;5;241m!=\u001b[39m \u001b[38;5;28mlen\u001b[39m(s):\n",
      "File \u001b[0;32m~/anaconda3/envs/normalization/lib/python3.8/json/decoder.py:353\u001b[0m, in \u001b[0;36mJSONDecoder.raw_decode\u001b[0;34m(self, s, idx)\u001b[0m\n\u001b[1;32m    344\u001b[0m \u001b[38;5;124;03m\"\"\"Decode a JSON document from ``s`` (a ``str`` beginning with\u001b[39;00m\n\u001b[1;32m    345\u001b[0m \u001b[38;5;124;03ma JSON document) and return a 2-tuple of the Python\u001b[39;00m\n\u001b[1;32m    346\u001b[0m \u001b[38;5;124;03mrepresentation and the index in ``s`` where the document ended.\u001b[39;00m\n\u001b[0;32m   (...)\u001b[0m\n\u001b[1;32m    350\u001b[0m \n\u001b[1;32m    351\u001b[0m \u001b[38;5;124;03m\"\"\"\u001b[39;00m\n\u001b[1;32m    352\u001b[0m \u001b[38;5;28;01mtry\u001b[39;00m:\n\u001b[0;32m--> 353\u001b[0m     obj, end \u001b[38;5;241m=\u001b[39m \u001b[38;5;28;43mself\u001b[39;49m\u001b[38;5;241;43m.\u001b[39;49m\u001b[43mscan_once\u001b[49m\u001b[43m(\u001b[49m\u001b[43ms\u001b[49m\u001b[43m,\u001b[49m\u001b[43m \u001b[49m\u001b[43midx\u001b[49m\u001b[43m)\u001b[49m\n\u001b[1;32m    354\u001b[0m \u001b[38;5;28;01mexcept\u001b[39;00m \u001b[38;5;167;01mStopIteration\u001b[39;00m \u001b[38;5;28;01mas\u001b[39;00m err:\n\u001b[1;32m    355\u001b[0m     \u001b[38;5;28;01mraise\u001b[39;00m JSONDecodeError(\u001b[38;5;124m\"\u001b[39m\u001b[38;5;124mExpecting value\u001b[39m\u001b[38;5;124m\"\u001b[39m, s, err\u001b[38;5;241m.\u001b[39mvalue) \u001b[38;5;28;01mfrom\u001b[39;00m \u001b[38;5;28mNone\u001b[39m\n",
      "\u001b[0;31mKeyboardInterrupt\u001b[0m: "
     ]
    }
   ],
   "source": [
    "listed = []\n",
    "#for hit in s[0:3800]:\n",
    "for hit in s.scan():\n",
    "    listed.append(hit.to_dict())"
   ]
  },
  {
   "cell_type": "code",
   "execution_count": 188,
   "metadata": {},
   "outputs": [
    {
     "data": {
      "text/html": [
       "<div>\n",
       "<style scoped>\n",
       "    .dataframe tbody tr th:only-of-type {\n",
       "        vertical-align: middle;\n",
       "    }\n",
       "\n",
       "    .dataframe tbody tr th {\n",
       "        vertical-align: top;\n",
       "    }\n",
       "\n",
       "    .dataframe thead th {\n",
       "        text-align: right;\n",
       "    }\n",
       "</style>\n",
       "<table border=\"1\" class=\"dataframe\">\n",
       "  <thead>\n",
       "    <tr style=\"text-align: right;\">\n",
       "      <th></th>\n",
       "      <th>Drugnames</th>\n",
       "      <th>Diseasenames</th>\n",
       "      <th>Indications</th>\n",
       "      <th>ADRs</th>\n",
       "      <th>ADR_reviews_count</th>\n",
       "      <th>Negated_ADE_reviews_count</th>\n",
       "      <th>Neg_reviews_count</th>\n",
       "      <th>Pos_reviews_countg</th>\n",
       "      <th>Review_count</th>\n",
       "      <th>Review_urls</th>\n",
       "    </tr>\n",
       "  </thead>\n",
       "  <tbody>\n",
       "    <tr>\n",
       "      <th>0</th>\n",
       "      <td>бактериофагом, виферон, кипферон, кипферона, с...</td>\n",
       "      <td></td>\n",
       "      <td>кашлем, насморк, понос, поносили, температура</td>\n",
       "      <td>дермит, на щёчке и мягкой части попы красные п...</td>\n",
       "      <td>1</td>\n",
       "      <td>1</td>\n",
       "      <td>1</td>\n",
       "      <td>0</td>\n",
       "      <td>1</td>\n",
       "      <td>[http://otzovik.com/review_395800.html]</td>\n",
       "    </tr>\n",
       "    <tr>\n",
       "      <th>1</th>\n",
       "      <td>антигриппин, антигриппина, иммунал</td>\n",
       "      <td>аллергическим ринитом, гриппа, гриппе, простуд...</td>\n",
       "      <td>насморку, сильный насморк, слезотечение, слезы...</td>\n",
       "      <td></td>\n",
       "      <td>0</td>\n",
       "      <td>0</td>\n",
       "      <td>0</td>\n",
       "      <td>1</td>\n",
       "      <td>1</td>\n",
       "      <td>[http://otzovik.com/review_396905.html]</td>\n",
       "    </tr>\n",
       "    <tr>\n",
       "      <th>2</th>\n",
       "      <td>ринофлуимуцил</td>\n",
       "      <td>бронхит, простуда, простуде</td>\n",
       "      <td>кашель, насморки</td>\n",
       "      <td></td>\n",
       "      <td>0</td>\n",
       "      <td>0</td>\n",
       "      <td>0</td>\n",
       "      <td>1</td>\n",
       "      <td>1</td>\n",
       "      <td>[http://otzovik.com/review_3169090.html]</td>\n",
       "    </tr>\n",
       "    <tr>\n",
       "      <th>3</th>\n",
       "      <td>аквалор, аквалор baby, аквалор беби</td>\n",
       "      <td></td>\n",
       "      <td>насморк</td>\n",
       "      <td></td>\n",
       "      <td>0</td>\n",
       "      <td>0</td>\n",
       "      <td>0</td>\n",
       "      <td>1</td>\n",
       "      <td>1</td>\n",
       "      <td>[http://otzovik.com/review_407963.html]</td>\n",
       "    </tr>\n",
       "    <tr>\n",
       "      <th>4</th>\n",
       "      <td>ксимелин</td>\n",
       "      <td></td>\n",
       "      <td>заложенности, насморк</td>\n",
       "      <td>привыкание, слизистую сушит</td>\n",
       "      <td>1</td>\n",
       "      <td>0</td>\n",
       "      <td>1</td>\n",
       "      <td>1</td>\n",
       "      <td>1</td>\n",
       "      <td>[http://otzovik.com/review_413118.html]</td>\n",
       "    </tr>\n",
       "    <tr>\n",
       "      <th>...</th>\n",
       "      <td>...</td>\n",
       "      <td>...</td>\n",
       "      <td>...</td>\n",
       "      <td>...</td>\n",
       "      <td>...</td>\n",
       "      <td>...</td>\n",
       "      <td>...</td>\n",
       "      <td>...</td>\n",
       "      <td>...</td>\n",
       "      <td>...</td>\n",
       "    </tr>\n",
       "    <tr>\n",
       "      <th>298</th>\n",
       "      <td>виферон, вифероном</td>\n",
       "      <td>герпесе, гриппа, орви</td>\n",
       "      <td>насморк, профилактики</td>\n",
       "      <td></td>\n",
       "      <td>0</td>\n",
       "      <td>0</td>\n",
       "      <td>0</td>\n",
       "      <td>1</td>\n",
       "      <td>1</td>\n",
       "      <td>[http://otzovik.com/review_610650.html]</td>\n",
       "    </tr>\n",
       "    <tr>\n",
       "      <th>299</th>\n",
       "      <td>ингаверина, ингавирин, капотеном</td>\n",
       "      <td>орви, простуды</td>\n",
       "      <td>горло, насморк</td>\n",
       "      <td>поднялось давление 145/90</td>\n",
       "      <td>1</td>\n",
       "      <td>1</td>\n",
       "      <td>1</td>\n",
       "      <td>1</td>\n",
       "      <td>1</td>\n",
       "      <td>[http://otzovik.com/review_6247440.html]</td>\n",
       "    </tr>\n",
       "    <tr>\n",
       "      <th>300</th>\n",
       "      <td>тонзилгон, тонзилгон н, тонзилгоном</td>\n",
       "      <td>трахеит</td>\n",
       "      <td>больного горла, кашель</td>\n",
       "      <td></td>\n",
       "      <td>0</td>\n",
       "      <td>0</td>\n",
       "      <td>0</td>\n",
       "      <td>1</td>\n",
       "      <td>1</td>\n",
       "      <td>[http://otzovik.com/review_643275.html]</td>\n",
       "    </tr>\n",
       "    <tr>\n",
       "      <th>301</th>\n",
       "      <td>назоферон</td>\n",
       "      <td></td>\n",
       "      <td>кашель, температура, чихать</td>\n",
       "      <td></td>\n",
       "      <td>0</td>\n",
       "      <td>1</td>\n",
       "      <td>1</td>\n",
       "      <td>0</td>\n",
       "      <td>1</td>\n",
       "      <td>[http://otzovik.com/review_644737.html]</td>\n",
       "    </tr>\n",
       "    <tr>\n",
       "      <th>302</th>\n",
       "      <td>ринофлуимуцил</td>\n",
       "      <td></td>\n",
       "      <td>насморк, насморке</td>\n",
       "      <td></td>\n",
       "      <td>0</td>\n",
       "      <td>0</td>\n",
       "      <td>0</td>\n",
       "      <td>1</td>\n",
       "      <td>1</td>\n",
       "      <td>[http://otzovik.com/review_646909.html]</td>\n",
       "    </tr>\n",
       "  </tbody>\n",
       "</table>\n",
       "<p>303 rows × 10 columns</p>\n",
       "</div>"
      ],
      "text/plain": [
       "                                             Drugnames  \\\n",
       "0    бактериофагом, виферон, кипферон, кипферона, с...   \n",
       "1                   антигриппин, антигриппина, иммунал   \n",
       "2                                        ринофлуимуцил   \n",
       "3                  аквалор, аквалор baby, аквалор беби   \n",
       "4                                             ксимелин   \n",
       "..                                                 ...   \n",
       "298                                 виферон, вифероном   \n",
       "299                   ингаверина, ингавирин, капотеном   \n",
       "300                тонзилгон, тонзилгон н, тонзилгоном   \n",
       "301                                          назоферон   \n",
       "302                                      ринофлуимуцил   \n",
       "\n",
       "                                          Diseasenames  \\\n",
       "0                                                        \n",
       "1    аллергическим ринитом, гриппа, гриппе, простуд...   \n",
       "2                          бронхит, простуда, простуде   \n",
       "3                                                        \n",
       "4                                                        \n",
       "..                                                 ...   \n",
       "298                              герпесе, гриппа, орви   \n",
       "299                                     орви, простуды   \n",
       "300                                            трахеит   \n",
       "301                                                      \n",
       "302                                                      \n",
       "\n",
       "                                           Indications  \\\n",
       "0        кашлем, насморк, понос, поносили, температура   \n",
       "1    насморку, сильный насморк, слезотечение, слезы...   \n",
       "2                                     кашель, насморки   \n",
       "3                                              насморк   \n",
       "4                                заложенности, насморк   \n",
       "..                                                 ...   \n",
       "298                              насморк, профилактики   \n",
       "299                                     горло, насморк   \n",
       "300                             больного горла, кашель   \n",
       "301                        кашель, температура, чихать   \n",
       "302                                  насморк, насморке   \n",
       "\n",
       "                                                  ADRs  ADR_reviews_count  \\\n",
       "0    дермит, на щёчке и мягкой части попы красные п...                  1   \n",
       "1                                                                       0   \n",
       "2                                                                       0   \n",
       "3                                                                       0   \n",
       "4                          привыкание, слизистую сушит                  1   \n",
       "..                                                 ...                ...   \n",
       "298                                                                     0   \n",
       "299                          поднялось давление 145/90                  1   \n",
       "300                                                                     0   \n",
       "301                                                                     0   \n",
       "302                                                                     0   \n",
       "\n",
       "     Negated_ADE_reviews_count  Neg_reviews_count  Pos_reviews_countg  \\\n",
       "0                            1                  1                   0   \n",
       "1                            0                  0                   1   \n",
       "2                            0                  0                   1   \n",
       "3                            0                  0                   1   \n",
       "4                            0                  1                   1   \n",
       "..                         ...                ...                 ...   \n",
       "298                          0                  0                   1   \n",
       "299                          1                  1                   1   \n",
       "300                          0                  0                   1   \n",
       "301                          1                  1                   0   \n",
       "302                          0                  0                   1   \n",
       "\n",
       "     Review_count                               Review_urls  \n",
       "0               1   [http://otzovik.com/review_395800.html]  \n",
       "1               1   [http://otzovik.com/review_396905.html]  \n",
       "2               1  [http://otzovik.com/review_3169090.html]  \n",
       "3               1   [http://otzovik.com/review_407963.html]  \n",
       "4               1   [http://otzovik.com/review_413118.html]  \n",
       "..            ...                                       ...  \n",
       "298             1   [http://otzovik.com/review_610650.html]  \n",
       "299             1  [http://otzovik.com/review_6247440.html]  \n",
       "300             1   [http://otzovik.com/review_643275.html]  \n",
       "301             1   [http://otzovik.com/review_644737.html]  \n",
       "302             1   [http://otzovik.com/review_646909.html]  \n",
       "\n",
       "[303 rows x 10 columns]"
      ]
     },
     "execution_count": 188,
     "metadata": {},
     "output_type": "execute_result"
    }
   ],
   "source": [
    "pd.DataFrame(listed)"
   ]
  },
  {
   "cell_type": "code",
   "execution_count": 193,
   "metadata": {},
   "outputs": [
    {
     "name": "stdout",
     "output_type": "stream",
     "text": [
      "{'text_id': 0, 'text': 'Я люблю пользоваться всякими гелями для душа, особенно, которые приятно пахнут. Кремом-гелем пользовалась впервые. Его нам подарили на работе на 8 марта. Что могу сказать-отличный подарок. Раньше продукцией Dove я практически не пользовалась, разве только мылом, крем-гель мне очень понравился. Нежный, пенящийся, приятный легкий аромат. Не сушит кожу после использования, хорошо увлажняет и питает. Очень вкусно пахнет кокосом и жасмином, ненавязчиво. Пользоваться-сплошное наслаждение. Теперь я проверила его действие на себе и смело могу купить в подарок близким людям и друзьям. Могу порекомендовать крем-гель Dove всем любительницам понежеться в ванне, я думаю, что вам он тоже понравится.', 'entities': {'0': {'entity_id': 0, 'text': 'очень понравился кожу', 'tag': ['Disease:DisTypeBNE-Pos'], 'spans': [{'begin': 277, 'end': 293}]}, '1': {'entity_id': 1, 'text': 'хорошо увлажняет и питает', 'tag': ['Disease:DisTypeBNE-Pos'], 'spans': [{'begin': 373, 'end': 398}]}, '2': {'entity_id': 2, 'text': 'Dove', 'tag': ['Medication:MedMakerForeign'], 'spans': [{'begin': 207, 'end': 211}]}, '3': {'entity_id': 3, 'text': 'гелями', 'tag': ['Medication:MedTypeDrugform'], 'spans': [{'begin': 29, 'end': 35}]}, '4': {'entity_id': 4, 'text': 'Кремом - гелем', 'tag': ['Medication:MedTypeDrugform'], 'spans': [{'begin': 80, 'end': 92}]}, '5': {'entity_id': 5, 'text': 'крем - гель', 'tag': ['Medication:MedTypeDrugform'], 'spans': [{'begin': 263, 'end': 272}]}, '6': {'entity_id': 6, 'text': 'крем - гель', 'tag': ['Medication:MedTypeDrugform'], 'spans': [{'begin': 604, 'end': 613}]}, '7': {'entity_id': 7, 'text': 'Dove', 'tag': ['Medication:MedTypeDrugname'], 'spans': [{'begin': 207, 'end': 211}]}, '8': {'entity_id': 8, 'text': 'Dove', 'tag': ['Medication:MedTypeDrugname'], 'spans': [{'begin': 614, 'end': 618}]}, '9': {'entity_id': 9, 'text': 'Dove', 'tag': ['Medication:MedTypeMedMaker'], 'spans': [{'begin': 207, 'end': 211}]}, '10': {'entity_id': 10, 'text': 'подарили на работе на', 'tag': ['Medication:MedTypeSourceInfodrug'], 'spans': [{'begin': 123, 'end': 144}]}}}\n"
     ]
    }
   ],
   "source": [
    "import json\n",
    "with open(\"/s/ls4/users/grartem/SAG_MED/med-corpus-analyser/data/raw/ner_800k_jsonl/ner_800k.jsonl\", \"r\") as f:\n",
    "    for line in f:\n",
    "        data = json.loads(line)\n",
    "        print(data)\n",
    "        break"
   ]
  },
  {
   "cell_type": "code",
   "execution_count": 191,
   "metadata": {},
   "outputs": [
    {
     "data": {
      "text/plain": [
       "{'text_id': 0,\n",
       " 'text': 'Я люблю пользоваться всякими гелями для душа, особенно, которые приятно пахнут. Кремом-гелем пользовалась впервые. Его нам подарили на работе на 8 марта. Что могу сказать-отличный подарок. Раньше продукцией Dove я практически не пользовалась, разве только мылом, крем-гель мне очень понравился. Нежный, пенящийся, приятный легкий аромат. Не сушит кожу после использования, хорошо увлажняет и питает. Очень вкусно пахнет кокосом и жасмином, ненавязчиво. Пользоваться-сплошное наслаждение. Теперь я проверила его действие на себе и смело могу купить в подарок близким людям и друзьям. Могу порекомендовать крем-гель Dove всем любительницам понежеться в ванне, я думаю, что вам он тоже понравится.',\n",
       " 'entities': {'0': {'entity_id': 0,\n",
       "   'text': 'очень понравился кожу',\n",
       "   'tag': ['Disease:DisTypeBNE-Pos'],\n",
       "   'spans': [{'begin': 277, 'end': 293}]},\n",
       "  '1': {'entity_id': 1,\n",
       "   'text': 'хорошо увлажняет и питает',\n",
       "   'tag': ['Disease:DisTypeBNE-Pos'],\n",
       "   'spans': [{'begin': 373, 'end': 398}]},\n",
       "  '2': {'entity_id': 2,\n",
       "   'text': 'Dove',\n",
       "   'tag': ['Medication:MedMakerForeign'],\n",
       "   'spans': [{'begin': 207, 'end': 211}]},\n",
       "  '3': {'entity_id': 3,\n",
       "   'text': 'гелями',\n",
       "   'tag': ['Medication:MedTypeDrugform'],\n",
       "   'spans': [{'begin': 29, 'end': 35}]},\n",
       "  '4': {'entity_id': 4,\n",
       "   'text': 'Кремом - гелем',\n",
       "   'tag': ['Medication:MedTypeDrugform'],\n",
       "   'spans': [{'begin': 80, 'end': 92}]},\n",
       "  '5': {'entity_id': 5,\n",
       "   'text': 'крем - гель',\n",
       "   'tag': ['Medication:MedTypeDrugform'],\n",
       "   'spans': [{'begin': 263, 'end': 272}]},\n",
       "  '6': {'entity_id': 6,\n",
       "   'text': 'крем - гель',\n",
       "   'tag': ['Medication:MedTypeDrugform'],\n",
       "   'spans': [{'begin': 604, 'end': 613}]},\n",
       "  '7': {'entity_id': 7,\n",
       "   'text': 'Dove',\n",
       "   'tag': ['Medication:MedTypeDrugname'],\n",
       "   'spans': [{'begin': 207, 'end': 211}]},\n",
       "  '8': {'entity_id': 8,\n",
       "   'text': 'Dove',\n",
       "   'tag': ['Medication:MedTypeDrugname'],\n",
       "   'spans': [{'begin': 614, 'end': 618}]},\n",
       "  '9': {'entity_id': 9,\n",
       "   'text': 'Dove',\n",
       "   'tag': ['Medication:MedTypeMedMaker'],\n",
       "   'spans': [{'begin': 207, 'end': 211}]},\n",
       "  '10': {'entity_id': 10,\n",
       "   'text': 'подарили на работе на',\n",
       "   'tag': ['Medication:MedTypeSourceInfodrug'],\n",
       "   'spans': [{'begin': 123, 'end': 144}]}}}"
      ]
     },
     "execution_count": 191,
     "metadata": {},
     "output_type": "execute_result"
    }
   ],
   "source": [
    "data"
   ]
  }
 ],
 "metadata": {
  "kernelspec": {
   "display_name": "normalization",
   "language": "python",
   "name": "normalization"
  },
  "language_info": {
   "codemirror_mode": {
    "name": "ipython",
    "version": 3
   },
   "file_extension": ".py",
   "mimetype": "text/x-python",
   "name": "python",
   "nbconvert_exporter": "python",
   "pygments_lexer": "ipython3",
   "version": "3.8.0"
  }
 },
 "nbformat": 4,
 "nbformat_minor": 4
}
